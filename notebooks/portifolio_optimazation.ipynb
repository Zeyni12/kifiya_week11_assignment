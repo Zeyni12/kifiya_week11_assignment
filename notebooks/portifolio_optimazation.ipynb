{
 "cells": [
  {
   "cell_type": "code",
   "execution_count": 1,
   "metadata": {},
   "outputs": [],
   "source": [
    "import yfinance as yf \n",
    "import pandas as pd \n",
    "from datetime import datetime, timedelta \n",
    "import numpy as np \n",
    "from scipy.optimize import minimize "
   ]
  },
  {
   "cell_type": "code",
   "execution_count": 7,
   "metadata": {},
   "outputs": [],
   "source": [
    "# Define the assets we'll analyze\n",
    "tickers = ['TSLA', 'BND', 'SPY']\n",
    "\n",
    "# Define the time period\n",
    "end_date = \"2025-01-31\"\n",
    "start_date = \"2015-01-01\"\n",
    "\n",
    "\n",
    "# Fetch the data\n",
    "#data = yf.download(tickers, start=start_date, end=end_date)\n",
    "#print(\"\\nData shape:\", data.shape)"
   ]
  },
  {
   "cell_type": "code",
   "execution_count": 9,
   "metadata": {},
   "outputs": [
    {
     "name": "stderr",
     "output_type": "stream",
     "text": [
      "[*********************100%***********************]  1 of 1 completed\n",
      "[*********************100%***********************]  1 of 1 completed\n",
      "[*********************100%***********************]  1 of 1 completed\n"
     ]
    }
   ],
   "source": [
    "##Download the close prices for each ticker\n",
    "adj_close_df = pd.DataFrame()\n",
    "for ticker in tickers:\n",
    "    data = yf.download(ticker, start = start_date, end = end_date)\n",
    "    adj_close_df[ticker] = data['Close']"
   ]
  },
  {
   "cell_type": "code",
   "execution_count": 10,
   "metadata": {},
   "outputs": [
    {
     "name": "stdout",
     "output_type": "stream",
     "text": [
      "                  TSLA        BND         SPY\n",
      "Date                                         \n",
      "2015-01-02   14.620667  62.573151  172.592880\n",
      "2015-01-05   14.006000  62.754803  169.475937\n",
      "2015-01-06   14.085333  62.936539  167.879608\n",
      "2015-01-07   14.063333  62.974384  169.971588\n",
      "2015-01-08   14.041333  62.875938  172.987778\n",
      "...                ...        ...         ...\n",
      "2025-01-24  406.579987  71.805977  607.969971\n",
      "2025-01-27  397.149994  72.184738  599.369995\n",
      "2025-01-28  398.089996  72.144867  604.520020\n",
      "2025-01-29  389.100006  72.104996  601.809998\n",
      "2025-01-30  400.279999  72.204674  605.039978\n",
      "\n",
      "[2535 rows x 3 columns]\n"
     ]
    }
   ],
   "source": [
    "print(adj_close_df)"
   ]
  },
  {
   "cell_type": "code",
   "execution_count": 12,
   "metadata": {},
   "outputs": [],
   "source": [
    "##calculate the lognormal returns for each ticker\n",
    "log_returns = np.log(adj_close_df / adj_close_df.shift(1))"
   ]
  },
  {
   "cell_type": "code",
   "execution_count": 13,
   "metadata": {},
   "outputs": [],
   "source": [
    "log_returns = log_returns.dropna()"
   ]
  },
  {
   "cell_type": "code",
   "execution_count": 14,
   "metadata": {},
   "outputs": [
    {
     "name": "stdout",
     "output_type": "stream",
     "text": [
      "          TSLA       BND       SPY\n",
      "TSLA  0.324849  0.001871  0.047626\n",
      "BND   0.001871  0.002970  0.001068\n",
      "SPY   0.047626  0.001068  0.031165\n"
     ]
    }
   ],
   "source": [
    "##calculate the covariance matrix using annualized log returns \n",
    "cov_matrix = log_returns.cov() * 252\n",
    "print(cov_matrix)"
   ]
  },
  {
   "cell_type": "code",
   "execution_count": 15,
   "metadata": {},
   "outputs": [],
   "source": [
    "##calculate optimal portfolio weights \n",
    "def standard_deviation(weights, cov_matrix):\n",
    "    variance = weights.T @ cov_matrix @ weights\n",
    "    return np.sqrt(variance)"
   ]
  },
  {
   "cell_type": "code",
   "execution_count": 16,
   "metadata": {},
   "outputs": [],
   "source": [
    "##calculate the expected return\n",
    "def expected_return(weights, log_returns):\n",
    "    return np.sum(log_returns.mean()*weights)*252"
   ]
  },
  {
   "cell_type": "code",
   "execution_count": 17,
   "metadata": {},
   "outputs": [],
   "source": [
    "##calculate the sharpe ratio\n",
    "def sharpe_ratio(weights, log_returns, cov_matrix, risk_free_rate):\n",
    "    return (expected_return(weights, log_returns) - risk_free_rate) / standard_deviation(weights, cov_matrix)"
   ]
  },
  {
   "cell_type": "code",
   "execution_count": 19,
   "metadata": {},
   "outputs": [
    {
     "name": "stdout",
     "output_type": "stream",
     "text": [
      "[0.33333333 0.33333333 0.33333333]\n"
     ]
    }
   ],
   "source": [
    "##to minimize negative sharpe ratio\n",
    "risk_free_rate = .02\n",
    "\n",
    "def neg_sharpe_ratio(weights, log_returns, cov_matrix, risk_free_rate):\n",
    "    return -sharpe_ratio(weights, log_returns, cov_matrix, risk_free_rate)\n",
    "\n",
    "constraints = {'type': 'eq', 'fun': lambda weights: np.sum(weights) - 1}\n",
    "bounds = [(0, 0.4) for _ in range(len(tickers))]\n",
    "initial_weights = np.array([1/len(tickers)]*len(tickers))\n",
    "\n",
    "print(initial_weights)"
   ]
  },
  {
   "cell_type": "code",
   "execution_count": null,
   "metadata": {},
   "outputs": [],
   "source": [
    "##optimize the weights to maximize sharpe ratio\n",
    "optimized_results = minimize(neg_sharpe_ratio, initial_weights, args=(log_returns, cov_matrix, risk_free_rate), method='SLSQP', constraints=constraints, bounds=bounds)"
   ]
  },
  {
   "cell_type": "code",
   "execution_count": 20,
   "metadata": {},
   "outputs": [
    {
     "name": "stdout",
     "output_type": "stream",
     "text": [
      "Optimal Weights:\n",
      "TSLA: 0.2026\n",
      "BND: 0.3974\n",
      "SPY: 0.4000\n",
      "Expected Annual Return: 0.1222\n",
      "Expected Volatility: 0.1648\n",
      "Sharpe Ratio: 0.6205\n"
     ]
    }
   ],
   "source": [
    "##Analyze the optimal portfolio\n",
    "optimal_weights = optimized_results.x\n",
    "\n",
    "print(\"Optimal Weights:\")\n",
    "for ticker, weight in zip(tickers, optimal_weights):\n",
    "    print(f\"{ticker}: {weight:.4f}\")\n",
    "\n",
    "optimal_portfolio_return = expected_return(optimal_weights, log_returns)\n",
    "optimal_portfolio_volatility = standard_deviation(optimal_weights, cov_matrix)\n",
    "optimal_sharpe_ratio = sharpe_ratio(optimal_weights, log_returns, cov_matrix, risk_free_rate)\n",
    "\n",
    "print(f\"Expected Annual Return: {optimal_portfolio_return:.4f}\")\n",
    "print(f\"Expected Volatility: {optimal_portfolio_volatility:.4f}\")\n",
    "print(f\"Sharpe Ratio: {optimal_sharpe_ratio:.4f}\")"
   ]
  },
  {
   "cell_type": "code",
   "execution_count": 23,
   "metadata": {},
   "outputs": [
    {
     "data": {
      "image/png": "[encoded data removed]",
      "text/plain": [
       "<Figure size 800x500 with 1 Axes>"
      ]
     },
     "metadata": {},
     "output_type": "display_data"
    }
   ],
   "source": [
    "##Display the Final Portfolio in a Plot\n",
    "import matplotlib.pyplot as plt\n",
    "\n",
    "plt.figure(figsize=(8, 5))\n",
    "plt.bar(tickers, optimal_weights)\n",
    "\n",
    "plt.xlabel('Assets')\n",
    "plt.ylabel('Optimal Weights')\n",
    "plt.title('Optimal Portfolio Weights')\n",
    "\n",
    "plt.show()"
   ]
  }
 ],
 "metadata": {
  "kernelspec": {
   "display_name": "base",
   "language": "python",
   "name": "python3"
  },
  "language_info": {
   "codemirror_mode": {
    "name": "ipython",
    "version": 3
   },
   "file_extension": ".py",
   "mimetype": "text/x-python",
   "name": "python",
   "nbconvert_exporter": "python",
   "pygments_lexer": "ipython3",
   "version": "3.12.7"
  }
 },
 "nbformat": 4,
 "nbformat_minor": 2
}
